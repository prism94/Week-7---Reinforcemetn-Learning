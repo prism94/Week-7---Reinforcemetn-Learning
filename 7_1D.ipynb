{
 "cells": [
  {
   "cell_type": "code",
   "execution_count": null,
   "metadata": {
    "id": "iXjp8FSQHL2d"
   },
   "outputs": [],
   "source": [
    "import gym\n",
    "from gym.spaces import Discrete, Box\n",
    "import numpy as np\n",
    "import random\n",
    "import itertools\n",
    "import matplotlib.pyplot as plt\n",
    "import cv2\n",
    "import io\n",
    "import base64\n",
    "from IPython import display\n",
    "import matplotlib.pyplot as plt\n",
    "import matplotlib.cm as cm\n",
    "import matplotlib.animation as animation\n",
    "import copy"
   ]
  },
  {
   "cell_type": "code",
   "execution_count": null,
   "metadata": {
    "id": "NaLWUx_mHTPK"
   },
   "outputs": [],
   "source": [
    "class snake(gym.Env):\n",
    "    \n",
    "    def __init__(self):\n",
    "        self.action_space = Discrete(4)\n",
    "        self.videos_images = []\n",
    "        self.snake_max_len = 100\n",
    "        self.snake_starting_length = 1\n",
    "        self.snake_length = 1\n",
    "        self.rows = 5\n",
    "        self.columns = 5\n",
    "        self.moves = [(1, 0), (0, 1), (-1, 0), (0, -1)] # 0 is down, 1 is right, 2 is up, 3 is left\n",
    "        self.default_board_environment = np.zeros((self.rows, self.columns))\n",
    "        self.board_state = self.default_board_environment\n",
    "        self.head_location = 0\n",
    "        self.apple_location = 0\n",
    "        self.videos = [('/content/snake.mp4', '/content/snake.meta.json')]\n",
    "    \n",
    "    def render_video(self):\n",
    "        lists = board.tolist()\n",
    "        for n in range(len(lists)):\n",
    "            lister = lists[n]\n",
    "            for i in range(len(lister)):\n",
    "                item = lister[i]\n",
    "                done = False\n",
    "                if item == 0:\n",
    "                    lister[i] = [0, 0, 0]\n",
    "                    done = True\n",
    "                if item == 1000:\n",
    "                    lister[i] = [255, 0, 0]\n",
    "                    done = True\n",
    "                if item == 100:\n",
    "                    lister[i] = [0, 0, 244]\n",
    "                if done == False:\n",
    "                    lister[i] = [192, 192, 192]\n",
    "            lists[n] = lister\n",
    "        self.videos_images.append(lists)\n",
    "\n",
    "    def write_video(self):\n",
    "        fig, ax = plt.subplots()\n",
    "        ims = []\n",
    "        for i in range(len(self.videos_images)):\n",
    "            im = ax.imshow(self.videos_images[i], animated=True)\n",
    "            if i == 0:\n",
    "                ax.imshow(self.videos_images[i])\n",
    "            ims.append([im])\n",
    "        ani = animation.ArtistAnimation(fig, ims, interval=50, blit=True,\n",
    "                                        repeat_delay=1000)\n",
    "        ani.save('snake.mp4')\n",
    "        plt.close()\n",
    "        \n",
    "\n",
    "    def step(self, action):\n",
    "        done = False\n",
    "        #Get Move\n",
    "        move = self.moves[action]\n",
    "        #Make Move\n",
    "        snake_loc = self.snake_location\n",
    "        reward = -0.05\n",
    "        cont = True\n",
    "        moving = True\n",
    "        new_length = False\n",
    "        if (snake_loc[0]+move[0]) >= self.rows:\n",
    "            cont = False\n",
    "        elif (snake_loc[0] + move[0]) < 0:\n",
    "            cont = False\n",
    "        if (snake_loc[1]+move[1]) >= self.columns:\n",
    "            cont = False\n",
    "        elif (snake_loc[1]+move[1]) < 0:\n",
    "            cont = False\n",
    "        if cont == True:\n",
    "            new_space = self.board_state[(snake_loc[0]+move[0]), (snake_loc[1]+move[1])]\n",
    "            if new_space == 1000:\n",
    "                done = True\n",
    "                reward = 1\n",
    "                new_length = True\n",
    "            if done == False:\n",
    "                if new_space != 0:\n",
    "                    if new_space != (self.snake_max_len - self.snake_length):\n",
    "                        done = True\n",
    "                        reward = -1\n",
    "        else:\n",
    "            moving = False\n",
    "            done = True\n",
    "            reward = -1\n",
    "        if moving == True:\n",
    "            moved_snake = False\n",
    "            self.board_state[(snake_loc[0]+move[0]), (snake_loc[1]+move[1])] = self.snake_max_len\n",
    "            count = self.snake_length\n",
    "            while moved_snake == False:\n",
    "                if (self.snake_max_len - count) <= (self.snake_max_len - self.snake_length):\n",
    "                    if new_length == True:\n",
    "                        find = np.where(self.board_state == (self.snake_max_len-count))\n",
    "                        self.board_state[find[0], find[1]] -= 1\n",
    "                    else:\n",
    "                        find = np.where(self.board_state == (self.snake_max_len-count))\n",
    "                        self.board_state[find[0], find[1]] = 0\n",
    "                else:\n",
    "                    find = np.where(self.board_state == (self.snake_max_len-count))\n",
    "                    self.board_state[find[0], find[1]] -= 1\n",
    "                if count == 1:\n",
    "                    moved_snake = True\n",
    "                count -= 1\n",
    "            if self.snake_length != 1:\n",
    "                self.board_state[(snake_loc[0]), (snake_loc[1])] -=1\n",
    "            else:\n",
    "                self.board_state[(snake_loc[0], (snake_loc[1]))] = 0\n",
    "            self.snake_location = [(snake_loc[0]+move[0]), (snake_loc[1]+move[1])]\n",
    "        self.render_video()\n",
    "        \n",
    "        if done == True:\n",
    "            self.write_video()\n",
    "        return self.board_state, reward, done\n",
    "    \n",
    "    def reset(self):\n",
    "        rand_row = random.randint(0, (self.rows-1))\n",
    "        rand_col = random.randint(0, (self.columns-1))\n",
    "        #Set board space and apple\n",
    "        self.board_state = self.default_board_environment\n",
    "        self.board_state[rand_row, rand_col] = 1000\n",
    "        self.apple_location = [rand_row, rand_col]\n",
    "        #Set Snake Head location\n",
    "        snake_loc = False\n",
    "        while snake_loc == False:\n",
    "            snake_row = random.randint(0, (self.rows-1))\n",
    "            snake_col = random.randint(0, (self.columns-1))\n",
    "            if self.board_state[snake_row, snake_col] != 1000:\n",
    "                self.board_state[snake_row, snake_col] = self.snake_max_len\n",
    "                snake_loc = True\n",
    "                self.snake_location = [snake_row, snake_col]\n",
    "        #Set Snake Body Location\n",
    "        snake_length = 1\n",
    "        snake_val = self.snake_max_len\n",
    "        moves = self.moves\n",
    "        snake_built = False\n",
    "        last_row = snake_row\n",
    "        last_col = snake_col\n",
    "        if snake_length == self.snake_starting_length:\n",
    "            snake_built = True\n",
    "        while snake_built == False:\n",
    "            viable_space = []\n",
    "            for move in moves:\n",
    "                viable = True\n",
    "                if (last_row + move[0]) < 0:\n",
    "                    viable = False\n",
    "                else:\n",
    "                    if (last_row + move[0]) >= self.rows:\n",
    "                        viable = False\n",
    "                if (last_col + move[1]) < 0:\n",
    "                    viable = False\n",
    "                else:\n",
    "                    if (last_col + move[1]) >= self.columns:\n",
    "                        viable = False\n",
    "                if viable == True:\n",
    "                    if self.board_state[(last_row+move[0]), (last_col+move[1])] != 0:\n",
    "                        viable = False\n",
    "                    if viable == True:\n",
    "                        viable_space.append(move)\n",
    "            if len(viable_space) == 0:\n",
    "                breakpoint()\n",
    "            rand_move = viable_space[random.randint(0, (len(viable_space)-1))]\n",
    "            last_row = last_row + rand_move[0]\n",
    "            last_col = last_col + rand_move[1]\n",
    "            snake_val -= 1\n",
    "            self.board_state[last_row, last_col] = snake_val\n",
    "            if snake_val <= (self.snake_max_len - self.snake_starting_length):\n",
    "                snake_built = True\n",
    "        self.snake_length = self.snake_starting_length\n",
    "        return self.board_state\n",
    "    \n",
    "    def render(self, mode='human', close=False):\n",
    "        pass\n",
    "    \n",
    "    def close(self):\n",
    "        pass"
   ]
  },
  {
   "cell_type": "markdown",
   "metadata": {
    "id": "McKFlNaG-J-v"
   },
   "source": [
    "#Gradient Decent Sarsa"
   ]
  },
  {
   "cell_type": "markdown",
   "metadata": {
    "id": "WC9Q-e8L94v4"
   },
   "source": [
    "#Sarsa(0)\n"
   ]
  },
  {
   "cell_type": "code",
   "execution_count": null,
   "metadata": {
    "id": "WYi0-m1z0wDD"
   },
   "outputs": [],
   "source": [
    "class Sarsa0_model():\n",
    "  def __init__(self):\n",
    "      self.theta = np.random.randn(25) / np.sqrt(25)\n",
    "  \n",
    "  def s(self, s, a):\n",
    "      return np.array([\n",
    "      s[0]/100                      if a == 0 else 0,\n",
    "      s[1]/100                      if a == 0 else 0,\n",
    "      s[0]*s[1]/100                 if a == 0 else 0,\n",
    "      s[0]*s[0]/100                 if a == 0 else 0,\n",
    "      s[1]*s[1]/100                 if a == 0 else 0,\n",
    "      1                             if a == 0 else 0,\n",
    "      s[0]/100                      if a == 1 else 0,\n",
    "      s[1]/100                      if a == 1 else 0,\n",
    "      s[0]*s[1]/100                 if a == 1 else 0,\n",
    "      s[0]*s[0]/100                 if a == 1 else 0,\n",
    "      s[1]*s[1]/100                 if a == 1 else 0,\n",
    "      1                             if a == 1 else 0,\n",
    "      s[0]/100                      if a == 2 else 0,\n",
    "      s[1]/100                      if a == 2 else 0,\n",
    "      s[0]*s[1]/100                 if a == 2 else 0,\n",
    "      s[0]*s[0]/100                 if a == 2 else 0,\n",
    "      s[1]*s[1]/100                 if a == 2 else 0,\n",
    "      1                             if a == 2 else 0,\n",
    "      s[0]/100                      if a == 3 else 0,\n",
    "      s[1]/100                      if a == 3 else 0,\n",
    "      s[0]*s[1]/100                 if a == 3 else 0,\n",
    "      s[0]*s[0]/100                 if a == 3 else 0,\n",
    "      s[1]*s[1]/100                 if a == 3 else 0,\n",
    "      1                             if a == 3 else 0,\n",
    "      1\n",
    "    ])\n",
    "  \n",
    "  def pred(self, s, a):\n",
    "      x = self.s(s, a)\n",
    "      return self.theta.dot(x)\n",
    "  \n",
    "  def gradiant(self, s, a):\n",
    "      return self.s(s, a)\n"
   ]
  },
  {
   "cell_type": "code",
   "execution_count": null,
   "metadata": {
    "id": "KaSYEK7a9L9s"
   },
   "outputs": [],
   "source": [
    "def get_coordinates(board):\n",
    "    apple = (int(np.argmax(board)/10), np.argmax(board)%10)\n",
    "    snake = np.where(board==100)\n",
    "    snake = (snake[0][0], snake[1][0])\n",
    "    return apple, snake"
   ]
  },
  {
   "cell_type": "code",
   "execution_count": null,
   "metadata": {
    "id": "Nccghk0pRgob"
   },
   "outputs": [],
   "source": [
    "def actions_allowed(s, a):\n",
    "\n",
    "    action_dictionary = {0:(1, 0),\n",
    "                         1:(0, 1),\n",
    "                         2:(-1, 0),\n",
    "                         3:(0, -1)}\n",
    "    \n",
    "    new_loc = np.array(s) + np.array(action_dictionary[a])\n",
    "\n",
    "    check = True\n",
    "\n",
    "    if new_loc[0] < 0 or new_loc[0] > 4:\n",
    "        check = False\n",
    "    \n",
    "    if new_loc[1] < 0 or new_loc[1] > 4:\n",
    "        check = False\n",
    "\n",
    "    return check"
   ]
  },
  {
   "cell_type": "code",
   "execution_count": null,
   "metadata": {
    "id": "kq2l9nuG2rOz"
   },
   "outputs": [],
   "source": [
    "def Q_vals(m, s):\n",
    "  actions = [0, 1, 2, 3]\n",
    "  q = {}\n",
    "  for act in actions:\n",
    "      if actions_allowed(s, act):\n",
    "          q_v = m.pred(s, act)\n",
    "          q[act] = q_v\n",
    "  return q"
   ]
  },
  {
   "cell_type": "code",
   "execution_count": null,
   "metadata": {
    "id": "Wpsfunca4nkq"
   },
   "outputs": [],
   "source": [
    "def best_action(q):\n",
    "  best = [np.NaN]\n",
    "  \n",
    "  for key in q.keys():\n",
    "      val = q[key]\n",
    "      if np.isnan(best[0]):\n",
    "          best = [key]\n",
    "      else:\n",
    "          if val > q[np.max(best)]:\n",
    "              best = [key]\n",
    "          elif val == q[np.max(best)]:\n",
    "              best.append(key)\n",
    "      \n",
    "  best = random.choice(best)\n",
    "  return best"
   ]
  },
  {
   "cell_type": "code",
   "execution_count": null,
   "metadata": {
    "id": "fQqXUo2g5HkY"
   },
   "outputs": [],
   "source": [
    "def epsilon_greedy(s, a, epsilon):\n",
    "    rand = random.uniform(0, 1)\n",
    "    if (1-epsilon) > rand:\n",
    "       return a \n",
    "    else: \n",
    "      check = False\n",
    "      check_count = 0\n",
    "      while check == False:\n",
    "          choice = random.choice([0, 1, 2, 3])\n",
    "          check = actions_allowed(s, choice)\n",
    "          check_count += 1\n",
    "          if check_count == 100:\n",
    "            pdb.set_trace()\n",
    "      return choice"
   ]
  },
  {
   "cell_type": "code",
   "execution_count": null,
   "metadata": {
    "id": "aobLygTx9Ivl"
   },
   "outputs": [],
   "source": [
    "env = snake()\n",
    "\n",
    "board = env.reset()\n",
    "\n",
    "apple_coordinates, snake_coordinates = get_coordinates(board)"
   ]
  },
  {
   "cell_type": "code",
   "execution_count": null,
   "metadata": {
    "colab": {
     "base_uri": "https://localhost:8080/"
    },
    "id": "vcXI1BpWw0jc",
    "outputId": "189489ac-e14b-4413-8a6d-f2e446d0bbe7"
   },
   "outputs": [
    {
     "name": "stdout",
     "output_type": "stream",
     "text": [
      "Snake Coordinates: (2, 2)\n",
      "Apple Coordinates: (0, 4)\n"
     ]
    }
   ],
   "source": [
    "print(f'Snake Coordinates: {snake_coordinates}')\n",
    "print(f'Apple Coordinates: {apple_coordinates}')"
   ]
  },
  {
   "cell_type": "code",
   "execution_count": null,
   "metadata": {
    "id": "N0R-RMR7zv-Y"
   },
   "outputs": [],
   "source": [
    "copy_env = copy.deepcopy(env)"
   ]
  },
  {
   "cell_type": "code",
   "execution_count": null,
   "metadata": {
    "id": "WIpAcC2zpbbM"
   },
   "outputs": [],
   "source": [
    "import pdb\n",
    "import gc"
   ]
  },
  {
   "cell_type": "code",
   "execution_count": null,
   "metadata": {
    "colab": {
     "base_uri": "https://localhost:8080/",
     "height": 1000
    },
    "id": "0vtuUBzS1nRS",
    "outputId": "ff8bf431-a483-4901-a77c-28cf81314a61"
   },
   "outputs": [
    {
     "name": "stdout",
     "output_type": "stream",
     "text": [
      "Original Weight Initialisations\n",
      "[-0.40776626  0.04396261 -0.18803026  0.16039629  0.01031447  0.48877887\n",
      " -0.15344682  0.03479187  0.03921892 -0.03004842 -0.00817728 -0.24548813\n",
      " -0.17809443 -0.20681954 -0.13904612  0.11678475  0.22634905  0.09334287\n",
      "  0.12818579  0.0526098   0.15057765 -0.02620558  0.09529207 -0.23268063\n",
      " -0.16430974]\n",
      "Episode 0 complete!\n",
      "Episode 1 complete!\n",
      "Episode 2 complete!\n",
      "Episode 3 complete!\n",
      "Episode 4 complete!\n",
      "Episode 5 complete!\n",
      "Episode 6 complete!\n",
      "Episode 7 complete!\n",
      "Episode 8 complete!\n",
      "Episode 9 complete!\n",
      "Episode 10 complete!\n",
      "Episode 11 complete!\n",
      "Episode 12 complete!\n",
      "Episode 13 complete!\n",
      "Episode 14 complete!\n",
      "Episode 15 complete!\n",
      "Episode 16 complete!\n",
      "Episode 17 complete!\n",
      "Episode 18 complete!\n",
      "Episode 19 complete!\n",
      "Episode 20 complete!\n",
      "Episode 21 complete!\n",
      "Episode 22 complete!\n",
      "Episode 23 complete!\n",
      "Episode 24 complete!\n",
      "Episode 25 complete!\n",
      "Episode 26 complete!\n",
      "Episode 27 complete!\n",
      "Episode 28 complete!\n",
      "Episode 29 complete!\n",
      "Episode 30 complete!\n",
      "Episode 31 complete!\n",
      "Episode 32 complete!\n",
      "Episode 33 complete!\n",
      "Episode 34 complete!\n",
      "Episode 35 complete!\n",
      "Episode 36 complete!\n",
      "Episode 37 complete!\n",
      "Episode 38 complete!\n",
      "Episode 39 complete!\n",
      "Episode 40 complete!\n",
      "Episode 41 complete!\n",
      "Episode 42 complete!\n",
      "Episode 43 complete!\n",
      "Episode 44 complete!\n",
      "Episode 45 complete!\n",
      "Episode 46 complete!\n",
      "Episode 47 complete!\n",
      "Episode 48 complete!\n",
      "Episode 49 complete!\n",
      "Episode 50 complete!\n",
      "Episode 51 complete!\n",
      "Episode 52 complete!\n",
      "Episode 53 complete!\n",
      "Episode 54 complete!\n",
      "Episode 55 complete!\n",
      "Episode 56 complete!\n",
      "Episode 57 complete!\n",
      "Episode 58 complete!\n",
      "Episode 59 complete!\n",
      "Episode 60 complete!\n",
      "Episode 61 complete!\n",
      "Episode 62 complete!\n",
      "Episode 63 complete!\n",
      "Episode 64 complete!\n",
      "Episode 65 complete!\n",
      "Episode 66 complete!\n",
      "Episode 67 complete!\n",
      "Episode 68 complete!\n",
      "Episode 69 complete!\n",
      "Episode 70 complete!\n",
      "Episode 71 complete!\n",
      "Episode 72 complete!\n",
      "Episode 73 complete!\n",
      "Episode 74 complete!\n",
      "Episode 75 complete!\n",
      "Episode 76 complete!\n",
      "Episode 77 complete!\n",
      "Episode 78 complete!\n",
      "Episode 79 complete!\n",
      "Episode 80 complete!\n",
      "Episode 81 complete!\n",
      "Episode 82 complete!\n",
      "Episode 83 complete!\n",
      "Episode 84 complete!\n",
      "Episode 85 complete!\n",
      "Episode 86 complete!\n",
      "Episode 87 complete!\n",
      "Episode 88 complete!\n",
      "Episode 89 complete!\n",
      "Episode 90 complete!\n",
      "Episode 91 complete!\n",
      "Episode 92 complete!\n",
      "Episode 93 complete!\n",
      "Episode 94 complete!\n",
      "Episode 95 complete!\n",
      "Episode 96 complete!\n",
      "Episode 97 complete!\n",
      "Episode 98 complete!\n",
      "Episode 99 complete!\n"
     ]
    },
    {
     "data": {
      "text/html": [
       "\n",
       "        <video alt=\"test\" controls>\n",
       "        <source src=\"data:video/mp4;base64,AAAAIGZ0eXBpc29tAAACAGlzb21pc28yYXZjMW1wNDEAAAAIZnJlZQAACVJtZGF0AAACrgYF//+q3EXpvebZSLeWLNgg2SPu73gyNjQgLSBjb3JlIDE1MiByMjg1NCBlOWE1OTAzIC0gSC4yNjQvTVBFRy00IEFWQyBjb2RlYyAtIENvcHlsZWZ0IDIwMDMtMjAxNyAtIGh0dHA6Ly93d3cudmlkZW9sYW4ub3JnL3gyNjQuaHRtbCAtIG9wdGlvbnM6IGNhYmFjPTEgcmVmPTMgZGVibG9jaz0xOjA6MCBhbmFseXNlPTB4MzoweDExMyBtZT1oZXggc3VibWU9NyBwc3k9MSBwc3lfcmQ9MS4wMDowLjAwIG1peGVkX3JlZj0xIG1lX3JhbmdlPTE2IGNocm9tYV9tZT0xIHRyZWxsaXM9MSA4eDhkY3Q9MSBjcW09MCBkZWFkem9uZT0yMSwxMSBmYXN0X3Bza2lwPTEgY2hyb21hX3FwX29mZnNldD0tMiB0aHJlYWRzPTMgbG9va2FoZWFkX3RocmVhZHM9MSBzbGljZWRfdGhyZWFkcz0wIG5yPTAgZGVjaW1hdGU9MSBpbnRlcmxhY2VkPTAgYmx1cmF5X2NvbXBhdD0wIGNvbnN0cmFpbmVkX2ludHJhPTAgYmZyYW1lcz0zIGJfcHlyYW1pZD0yIGJfYWRhcHQ9MSBiX2JpYXM9MCBkaXJlY3Q9MSB3ZWlnaHRiPTEgb3Blbl9nb3A9MCB3ZWlnaHRwPTIga2V5aW50PTI1MCBrZXlpbnRfbWluPTIwIHNjZW5lY3V0PTQwIGludHJhX3JlZnJlc2g9MCByY19sb29rYWhlYWQ9NDAgcmM9Y3JmIG1idHJlZT0xIGNyZj0yMy4wIHFjb21wPTAuNjAgcXBtaW49MCBxcG1heD02OSBxcHN0ZXA9NCBpcF9yYXRpbz0xLjQwIGFxPTE6MS4wMACAAAADiGWIhAA3//728P4FNjuY0JcRzeidMx+/Fbi6NDe9zgAAAwAAN9zmRP7KkwbmwAAC4Jguy+Eh/5gBWCBkyGAuJDQxrJ5Gd78070u2JkVB4LjXw7G5482aPfj/XOP3KUbqiHW7QwA/T5T80IKfm3Z4/h27Yt7ACAzaT5EarH/bbjJ1mho7tMUce/CAK0xD5b4NdbVNvUG9mlByvxijupKUaAKnnaz1Onhgzx9OX4Q2tnYDhEBfhwuYpWyz4nKXCmG8AX2/KBYBWhxFbN0uP2s9jEIbX1/0R6o5DYDmxML+xwOYIVc6QkjjGPcNpZm1+hgk6pTcsWbWo23isXPkFkTW0OKUiFLNZy/FhYJ+Hqm8S0e1NwyW+gWU49jDvwtdvppf3MODr8AwhUMtLWOjdCBCX0MF7odC2ZHHzM7BUZmI8dz6bo5gq5LPTMtMuXLqRNdFSNTQQ+V8WlHUWiqRr2UFl5CZWktu3rycXCf4Ao4ANOa5yqeEidfakMJm5IeLgETnczQb1HPc93HFlPZW10ncrD95SgEdEp7bvDwREwXWGnrMqHVrcbHOSnmshepLGXYheu595YEhjd2/MuESXYom6RZlGeA2Xh0gCJOvAmwUyHnnt7dfwKs1kZ39dL2lIYlsuCaOEmtBKpr3ZawiUmNGuxuTGpqZ/6yWUEyN9wcCzU2NL0zP43hEQJ4wcJHBkuAfc3wIjx8EqPYuotoM1lv/CUkRcBtcUV69yEy4fY6B7LVE03ewDoIDYUfgp9Fsbcs9atDaC0Bnvn25qWnc6GDUFDRCGLV1cubc9ANuZokrY8b4M7Hh2wzVJDMqEBNlqXdTSqLQNE4g/JFwAAsZFpnzdY6QncE0IpLE85qfNWaw5ARTRg/o/W/OWnzZiUUWxAmRF9QjOpJD1YVaCr5nLNg600MxoTDbmNW7vyH1tcVdROp4Q5FW5L6P6ln/880QstE3qkdPj43LC06S52HAvRmxyeq6ZLuv9SNqzRukHTtF37vLGO/AcNZZ5qrL3QfFUSAd935cIwVABQuUF6F5zg6kUhRML6x336iUvaH7Tjab3JKnXfdZp1lwBynI2XZyKBgRcyWDMkCNhVg0SBxdELcemn/LTIo/sQbec6WThFUzFuH+eQ6hLz2FrLJcBaD6eGTlIoapp86S+nHnLUAwvJ9QMzUfdFPD3hX9pnlzF6h1PrvLoAPHiS+AvoEAAAE4QZohbEN//qeEATRFz3ABtMAV5x7GYQZnuve9ASl+G5yHj0qw9d6IYbmRhDjC4/226VK6DCSNaQ5xq07WFbk9PGi6f1Yk7+yLDlCYQIoqzndwFSsmq5w+CpH9+UWO9Ryj8NQlOHPXeBxACcy3CQOhQWEoLOmkZXIPzUOFqGhYe0TQFI0EV8yBx63TduxvBlH1QypNj5GjtGEmYdMwA4DNaEz/1DHdKJHHYzqkllLJlPgdLS1JVL+gU0AOyfvaPSsk+FaM1dkiCkRcBL7cySxdMx/dMKVgdzoDd89ONffP8+n3dp2KRGJClrv3TlBVFRRb3nSlYcSr8Dyx3YfwH2QLvMl1MGk47fZob270IPLXrOJ5Hs/lcq+PtuCe/R8g2nXm3rG19uOJL4TJXFXUJdcjZWtpgfRGajLWAAAAa0GaQjwhkymEM//+nhAAkqPr6zop7H+Zg5oYADq05ftGRadwVVIpo1KYSY6NJo7XhzVT82kC9zd5oEXiboHOEcbJ4c3EbTSj0OsprMDmTl7QG4KkvfUftpGhm+IDzKm6ShtngYNewL3etzN5AAAAcEGaY0nhDyZTAhn//p4QAT/ffweGXUAF9YBX2UHjb5VLfCMUNDccZ08sS+qQYLbTKNYXfLe+AmUKnfIbjO8cfR5GGhiImroenYOs4PT8k5nE7xu9YlzphbJOlk/62UsyxNq8z/AU7saMv76V6QH45gIAAAB3QZqESeEPJlMCGf/+nhAE919z3WenxABT3Mjr//C0uHpek9OXRIt3yYYj5aMg6W+qyTuCK2g8FI/L4PI/P5UbzBJ0dG2XYyxQgOKwTyAuUvZM3j5diu1x+P7qpyO+6abpL3koAOi02ug+B//HRcEuwuo7LS8mdUEAAABuQZqlSeEPJlMCFf/+OEATQ+t38v7H75qAAiDaY+ZkYgCgpPlpSualVPD9bw5QNyWvLy1UXTarP+wyhkcnGmmKYBPJsvnsJ92dwHIHW4gZofI1Veu7x400TcmWTx1vR4Jeh9XcoBIw6KEUrGFjtsEAAAMybW9vdgAAAGxtdmhkAAAAAAAAAAAAAAAAAAAD6AAAASwAAQAAAQAAAAAAAAAAAAAAAAEAAAAAAAAAAAAAAAAAAAABAAAAAAAAAAAAAAAAAABAAAAAAAAAAAAAAAAAAAAAAAAAAAAAAAAAAAAAAAAAAgAAAlx0cmFrAAAAXHRraGQAAAADAAAAAAAAAAAAAAABAAAAAAAAASwAAAAAAAAAAAAAAAAAAAAAAAEAAAAAAAAAAAAAAAAAAAABAAAAAAAAAAAAAAAAAABAAAAAAbAAAAEgAAAAAAAkZWR0cwAAABxlbHN0AAAAAAAAAAEAAAEsAAAEAAABAAAAAAHUbWRpYQAAACBtZGhkAAAAAAAAAAAAAAAAAAAoAAAADABVxAAAAAAALWhkbHIAAAAAAAAAAHZpZGUAAAAAAAAAAAAAAABWaWRlb0hhbmRsZXIAAAABf21pbmYAAAAUdm1oZAAAAAEAAAAAAAAAAAAAACRkaW5mAAAAHGRyZWYAAAAAAAAAAQAAAAx1cmwgAAAAAQAAAT9zdGJsAAAAl3N0c2QAAAAAAAAAAQAAAIdhdmMxAAAAAAAAAAEAAAAAAAAAAAAAAAAAAAAAAbABIABIAAAASAAAAAAAAAABAAAAAAAAAAAAAAAAAAAAAAAAAAAAAAAAAAAAAAAAAAAAGP//AAAAMWF2Y0MBZAAV/+EAGGdkABWs2UGwloQAAAMABAAAAwCgPFi2WAEABmjr48siwAAAABhzdHRzAAAAAAAAAAEAAAAGAAACAAAAABRzdHNzAAAAAAAAAAEAAAABAAAAGGN0dHMAAAAAAAAAAQAAAAYAAAQAAAAAHHN0c2MAAAAAAAAAAQAAAAEAAAAGAAAAAQAAACxzdHN6AAAAAAAAAAAAAAAGAAAGPgAAATwAAABvAAAAdAAAAHsAAAByAAAAFHN0Y28AAAAAAAAAAQAAADAAAABidWR0YQAAAFptZXRhAAAAAAAAACFoZGxyAAAAAAAAAABtZGlyYXBwbAAAAAAAAAAAAAAAAC1pbHN0AAAAJal0b28AAAAdZGF0YQAAAAEAAAAATGF2ZjU3LjgzLjEwMA==\" type=\"video/mp4\" />\n",
       "        </video>\n",
       "        "
      ],
      "text/plain": [
       "<IPython.core.display.HTML object>"
      ]
     },
     "metadata": {
      "tags": []
     },
     "output_type": "display_data"
    },
    {
     "name": "stdout",
     "output_type": "stream",
     "text": [
      "Weights after training:\n",
      "[-0.41494033  0.03562575 -0.20352508  0.14278407 -0.01177595  0.0717675\n",
      " -0.20165537  0.07316105 -0.07648246 -0.15932929  0.138992    0.26490761\n",
      " -0.22414905 -0.15355845 -0.21365266 -0.06402445  0.52035355  0.16786819\n",
      "  0.1336555   0.05706252  0.15639749 -0.010393    0.10331873  0.04477069\n",
      "  0.28105127]\n"
     ]
    }
   ],
   "source": [
    "a = 0.1\n",
    "g = 0.8\n",
    "epsilon = 1\n",
    "\n",
    "eps = 100\n",
    "eps_decay = 0.015\n",
    "min_eps = 0\n",
    "\n",
    "average_rewards = []\n",
    "\n",
    "mod = Sarsa0_model()\n",
    "print('Original Weight Initialisations')\n",
    "print(mod.theta)\n",
    "\n",
    "for i in range(eps):\n",
    "    epsilon = np.max([min_eps, (epsilon-eps_decay)])\n",
    "\n",
    "    env = copy.deepcopy(copy_env)\n",
    "\n",
    "    apple, state = get_coordinates(board)\n",
    "    q_vals = Q_vals(mod, state)\n",
    "\n",
    "    action = best_action(q_vals)\n",
    "    action = epsilon_greedy(state, action, epsilon)\n",
    "    \n",
    "    done = False\n",
    "    \n",
    "    count = 0\n",
    "    total_reward = 0\n",
    "    stop = False\n",
    "    \n",
    "    while done == False:\n",
    "        board, reward, done = env.step(action)\n",
    "        apple, state_2 = get_coordinates(board)\n",
    "        \n",
    "        count += 1\n",
    "        total_reward += reward\n",
    "        \n",
    "        if done == True:\n",
    "            mod.theta += a*(reward - mod.pred(state, action))*mod.gradiant(state, action)\n",
    "            average_rewards.append(total_reward/count)\n",
    "        else:\n",
    "            q_vals2 = Q_vals(mod, state_2)\n",
    "            action_2 = best_action(q_vals2)\n",
    "            max = q_vals2[action_2]\n",
    "            action_2 = epsilon_greedy(state_2, action_2, epsilon)\n",
    "            \n",
    "            prev_weights = copy.deepcopy(mod.theta)\n",
    "            mod.theta += a*(reward + g*max - mod.pred(state, action))*mod.gradiant(state, action)\n",
    "\n",
    "            state = state_2\n",
    "            action = action_2\n",
    "    \n",
    "    print(f'Episode {i} complete!')\n",
    "    \n",
    "    gc.collect()\n",
    "\n",
    "\n",
    "for f in env.videos:\n",
    "    video = io.open(f[0], 'r+b').read()\n",
    "    encoded = base64.b64encode(video)\n",
    "\n",
    "    display.display(display.HTML(data=\"\"\"\n",
    "        <video alt=\"test\" controls>\n",
    "        <source src=\"data:video/mp4;base64,{0}\" type=\"video/mp4\" />\n",
    "        </video>\n",
    "        \"\"\".format(encoded.decode('ascii'))))\n",
    "\n",
    "print('Weights after training:')\n",
    "print(mod.theta)\n"
   ]
  },
  {
   "cell_type": "code",
   "execution_count": null,
   "metadata": {
    "colab": {
     "base_uri": "https://localhost:8080/",
     "height": 264
    },
    "id": "O8d2L3ct4aqX",
    "outputId": "6e28dbbd-15c3-410a-e9e4-b66391b812fe"
   },
   "outputs": [
    {
     "data": {
      "image/png": "[encoded data removed]",
      "text/plain": [
       "<Figure size 432x288 with 1 Axes>"
      ]
     },
     "metadata": {
      "needs_background": "light",
      "tags": []
     },
     "output_type": "display_data"
    }
   ],
   "source": [
    "plt.plot(average_rewards)\n",
    "plt.show()"
   ]
  },
  {
   "cell_type": "markdown",
   "metadata": {
    "id": "L2CijmNLA3M7"
   },
   "source": [
    "#Sarsa with Linear Function Approximation"
   ]
  },
  {
   "cell_type": "code",
   "execution_count": null,
   "metadata": {
    "id": "aPgSDI22t0oJ"
   },
   "outputs": [],
   "source": [
    "class Sarsa_Lambda_model():\n",
    "  def __init__(self, rows, columns, actions):\n",
    "      self.rows = rows\n",
    "      self.columns = columns\n",
    "      self.theta = np.random.randn(rows+columns+actions) / np.sqrt(25)\n",
    "  \n",
    "  def s(self, s, a):\n",
    "      columns = np.array([0 for _ in range(self.columns)])\n",
    "      rows = np.array([0 for _ in range(self.rows)])\n",
    "      action = np.array([0 for _ in range(4)])\n",
    "\n",
    "      columns[s[0]] = 1\n",
    "      rows[s[1]] = 1\n",
    "      action[a] = 1\n",
    "\n",
    "      combine = np.append(columns, rows)\n",
    "      combine = np.append(combine, action)\n",
    "\n",
    "      return combine\n",
    "  \n",
    "  def pred(self, s, a):\n",
    "      x = self.s(s, a)\n",
    "      return self.theta.dot(x)\n",
    "  \n",
    "  def features(self, s, a):\n",
    "      return self.s(s, a)\n",
    "\n",
    "  def reset_z(self):\n",
    "      self.z = np.array([0 for _ in range(len(self.theta))])\n",
    "\n"
   ]
  },
  {
   "cell_type": "code",
   "execution_count": null,
   "metadata": {
    "colab": {
     "base_uri": "https://localhost:8080/",
     "height": 1000
    },
    "id": "xdlWe_jACO0g",
    "outputId": "9d4da52b-78ad-474a-d591-55a9e354b19d"
   },
   "outputs": [
    {
     "name": "stdout",
     "output_type": "stream",
     "text": [
      "Original Weight Initialisations\n",
      "[-0.26346477  0.19965742 -0.15120853  0.19773392 -0.08488151  0.21633586\n",
      " -0.05686452  0.12514565 -0.15395538 -0.13572854  0.20887649  0.07454258\n",
      "  0.02018627  0.06443682]\n",
      "Episode 0 complete!\n",
      "Episode 1 complete!\n",
      "Episode 2 complete!\n",
      "Episode 3 complete!\n",
      "Episode 4 complete!\n",
      "Episode 5 complete!\n",
      "Episode 6 complete!\n",
      "Episode 7 complete!\n",
      "Episode 8 complete!\n",
      "Episode 9 complete!\n",
      "Episode 10 complete!\n",
      "Episode 11 complete!\n",
      "Episode 12 complete!\n",
      "Episode 13 complete!\n",
      "Episode 14 complete!\n",
      "Episode 15 complete!\n",
      "Episode 16 complete!\n",
      "Episode 17 complete!\n",
      "Episode 18 complete!\n",
      "Episode 19 complete!\n",
      "Episode 20 complete!\n",
      "Episode 21 complete!\n",
      "Episode 22 complete!\n",
      "Episode 23 complete!\n",
      "Episode 24 complete!\n",
      "Episode 25 complete!\n",
      "Episode 26 complete!\n",
      "Episode 27 complete!\n",
      "Episode 28 complete!\n",
      "Episode 29 complete!\n",
      "Episode 30 complete!\n",
      "Episode 31 complete!\n",
      "Episode 32 complete!\n",
      "Episode 33 complete!\n",
      "Episode 34 complete!\n",
      "Episode 35 complete!\n",
      "Episode 36 complete!\n",
      "Episode 37 complete!\n",
      "Episode 38 complete!\n",
      "Episode 39 complete!\n",
      "Episode 40 complete!\n",
      "Episode 41 complete!\n",
      "Episode 42 complete!\n",
      "Episode 43 complete!\n",
      "Episode 44 complete!\n",
      "Episode 45 complete!\n",
      "Episode 46 complete!\n",
      "Episode 47 complete!\n",
      "Episode 48 complete!\n",
      "Episode 49 complete!\n",
      "Episode 50 complete!\n",
      "Episode 51 complete!\n",
      "Episode 52 complete!\n",
      "Episode 53 complete!\n",
      "Episode 54 complete!\n",
      "Episode 55 complete!\n",
      "Episode 56 complete!\n",
      "Episode 57 complete!\n",
      "Episode 58 complete!\n",
      "Episode 59 complete!\n",
      "Episode 60 complete!\n",
      "Episode 61 complete!\n",
      "Episode 62 complete!\n",
      "Episode 63 complete!\n",
      "Episode 64 complete!\n",
      "Episode 65 complete!\n",
      "Episode 66 complete!\n",
      "Episode 67 complete!\n",
      "Episode 68 complete!\n",
      "Episode 69 complete!\n",
      "Episode 70 complete!\n",
      "Episode 71 complete!\n",
      "Episode 72 complete!\n",
      "Episode 73 complete!\n",
      "Episode 74 complete!\n",
      "Episode 75 complete!\n",
      "Episode 76 complete!\n",
      "Episode 77 complete!\n",
      "Episode 78 complete!\n",
      "Episode 79 complete!\n",
      "Episode 80 complete!\n",
      "Episode 81 complete!\n",
      "Episode 82 complete!\n",
      "Episode 83 complete!\n",
      "Episode 84 complete!\n",
      "Episode 85 complete!\n",
      "Episode 86 complete!\n",
      "Episode 87 complete!\n",
      "Episode 88 complete!\n",
      "Episode 89 complete!\n",
      "Episode 90 complete!\n",
      "Episode 91 complete!\n",
      "Episode 92 complete!\n",
      "Episode 93 complete!\n",
      "Episode 94 complete!\n",
      "Episode 95 complete!\n",
      "Episode 96 complete!\n",
      "Episode 97 complete!\n",
      "Episode 98 complete!\n",
      "Episode 99 complete!\n"
     ]
    },
    {
     "data": {
      "text/html": [
       "\n",
       "        <video alt=\"test\" controls>\n",
       "        <source src=\"data:video/mp4;base64,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\" type=\"video/mp4\" />\n",
       "        </video>\n",
       "        "
      ],
      "text/plain": [
       "<IPython.core.display.HTML object>"
      ]
     },
     "metadata": {
      "tags": []
     },
     "output_type": "display_data"
    },
    {
     "name": "stdout",
     "output_type": "stream",
     "text": [
      "Weights after training:\n",
      "[ 0.23465786  0.19631996 -0.01721189 -0.20427614 -0.24636971 -0.24932679\n",
      " -0.16604916  0.02452749  0.24572624  0.25650296 -0.28530872  0.44196277\n",
      "  0.45043611 -0.28782667]\n"
     ]
    }
   ],
   "source": [
    "a = 0.1\n",
    "g = 0.8\n",
    "trace = 0.8\n",
    "epsilon = 1\n",
    "\n",
    "eps = 100\n",
    "eps_decay = 0.015\n",
    "min_eps = 0\n",
    "\n",
    "average_rewards = []\n",
    "\n",
    "mod = Sarsa_Lambda_model(5, 5, 4)\n",
    "print('Original Weight Initialisations')\n",
    "print(mod.theta)\n",
    "\n",
    "for i in range(eps):\n",
    "    epsilon = np.max([min_eps, (epsilon-eps_decay)])\n",
    "\n",
    "    env = copy.deepcopy(copy_env)\n",
    "\n",
    "    apple, state = get_coordinates(board)\n",
    "    q_vals = Q_vals(mod, state)\n",
    "\n",
    "    action = best_action(q_vals)\n",
    "    action = epsilon_greedy(state, action, epsilon)\n",
    "    \n",
    "    done = False\n",
    "    \n",
    "    count = 0\n",
    "    total_reward = 0\n",
    "    \n",
    "    mod.reset_z()\n",
    "\n",
    "    while done == False:\n",
    "        board, reward, done = env.step(action)\n",
    "        apple, state_2 = get_coordinates(board)\n",
    "        \n",
    "        count += 1\n",
    "        total_reward += reward\n",
    "        \n",
    "        delta = reward - mod.pred(state, action)\n",
    "\n",
    "        features = mod.features(state, action)\n",
    "        \n",
    "        for _ in range(len(features)):\n",
    "            if features[_] == 1:\n",
    "                mod.z[_] = 1\n",
    "        \n",
    "        if done == True:\n",
    "            mod.theta += a*delta*mod.z\n",
    "            average_rewards.append(total_reward/count)\n",
    "        else:\n",
    "            q_vals2 = Q_vals(mod, state_2)\n",
    "            action_2 = best_action(q_vals2)\n",
    "            max = q_vals2[action_2]\n",
    "            action_2 = epsilon_greedy(state_2, action_2, epsilon)\n",
    "            \n",
    "            delta += g*mod.pred(state_2, action_2)\n",
    "\n",
    "            mod.theta += a*delta*mod.z\n",
    "            mod.z = g*trace*mod.z\n",
    "\n",
    "            state = state_2\n",
    "            action = action_2\n",
    "    \n",
    "    print(f'Episode {i} complete!')\n",
    "    gc.collect()\n",
    "\n",
    "\n",
    "for f in env.videos:\n",
    "    video = io.open(f[0], 'r+b').read()\n",
    "    encoded = base64.b64encode(video)\n",
    "\n",
    "    display.display(display.HTML(data=\"\"\"\n",
    "        <video alt=\"test\" controls>\n",
    "        <source src=\"data:video/mp4;base64,{0}\" type=\"video/mp4\" />\n",
    "        </video>\n",
    "        \"\"\".format(encoded.decode('ascii'))))\n",
    "\n",
    "print('Weights after training:')\n",
    "print(mod.theta)\n"
   ]
  },
  {
   "cell_type": "code",
   "execution_count": null,
   "metadata": {
    "colab": {
     "base_uri": "https://localhost:8080/",
     "height": 264
    },
    "id": "kil3KyoLunnC",
    "outputId": "0f0774da-65c1-4f4d-a338-b97a99de6f14"
   },
   "outputs": [
    {
     "data": {
      "image/png": "[encoded data removed]",
      "text/plain": [
       "<Figure size 432x288 with 1 Axes>"
      ]
     },
     "metadata": {
      "needs_background": "light",
      "tags": []
     },
     "output_type": "display_data"
    }
   ],
   "source": [
    "plt.plot(average_rewards)\n",
    "plt.show()"
   ]
  }
 ],
 "metadata": {
  "colab": {
   "collapsed_sections": [],
   "name": "7.1D.ipynb",
   "provenance": []
  },
  "kernelspec": {
   "display_name": "Python 3",
   "language": "python",
   "name": "python3"
  },
  "language_info": {
   "codemirror_mode": {
    "name": "ipython",
    "version": 3
   },
   "file_extension": ".py",
   "mimetype": "text/x-python",
   "name": "python",
   "nbconvert_exporter": "python",
   "pygments_lexer": "ipython3",
   "version": "3.7.10"
  }
 },
 "nbformat": 4,
 "nbformat_minor": 1
}
